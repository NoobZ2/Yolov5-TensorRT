{
 "cells": [
  {
   "cell_type": "markdown",
   "metadata": {
    "colab_type": "text",
    "id": "dFc6UWz63kJB"
   },
   "source": [
    "# YOLO v5"
   ]
  },
  {
   "cell_type": "markdown",
   "metadata": {
    "colab_type": "text",
    "id": "2G_yU0eicvif"
   },
   "source": [
    "### 0. Install Yolov5"
   ]
  },
  {
   "cell_type": "code",
   "execution_count": null,
   "metadata": {
    "colab": {
     "base_uri": "https://localhost:8080/",
     "height": 102
    },
    "colab_type": "code",
    "id": "VCqNyeZD3Zhz",
    "outputId": "8f0032e4-4517-40d8-da99-2107e669e014"
   },
   "outputs": [],
   "source": [
    "!rm -rf yolov5 && git clone --branch exp https://github.com/SeanAvery/yolov5.git"
   ]
  },
  {
   "cell_type": "code",
   "execution_count": null,
   "metadata": {
    "colab": {
     "base_uri": "https://localhost:8080/",
     "height": 1000
    },
    "colab_type": "code",
    "id": "YcSON3Km4AJf",
    "outputId": "86f530bf-6636-4803-c266-bd34ef3ea055"
   },
   "outputs": [],
   "source": [
    "! cd yolov5 && pip install -U -r requirements.txt\n"
   ]
  },
  {
   "cell_type": "markdown",
   "metadata": {
    "colab_type": "text",
    "id": "CmnuX8-ec142"
   },
   "source": [
    "### 1. Test out model on video input"
   ]
  },
  {
   "cell_type": "code",
   "execution_count": null,
   "metadata": {
    "colab": {
     "base_uri": "https://localhost:8080/",
     "height": 391
    },
    "colab_type": "code",
    "id": "wu2sdaEx5N3A",
    "outputId": "bd0582fb-35d1-4511-df53-e087c88c9872"
   },
   "outputs": [],
   "source": [
    "!wget http://capslock.ai/sample_720p.jpg\n",
    "!wget http://capslock.ai/14th_st.jpg"
   ]
  },
  {
   "cell_type": "code",
   "execution_count": null,
   "metadata": {
    "colab": {
     "base_uri": "https://localhost:8080/",
     "height": 34
    },
    "colab_type": "code",
    "id": "Gbo9NnvwtH7U",
    "outputId": "a20337db-bc76-4bd7-ff16-e47c14742ebe"
   },
   "outputs": [],
   "source": [
    "import cv2\n",
    "\n",
    "img = cv2.imread('14th_st.jpg')\n",
    "img = cv2.resize(img, (640, 640))\n",
    "cv2.imwrite('14th_st.jpg', img)"
   ]
  },
  {
   "cell_type": "code",
   "execution_count": null,
   "metadata": {
    "colab": {
     "base_uri": "https://localhost:8080/",
     "height": 139
    },
    "colab_type": "code",
    "id": "we6ZdC2W4fUZ",
    "outputId": "1c36ee5a-fdad-41d6-9535-051ae2560e70"
   },
   "outputs": [],
   "source": [
    "!cd yolov5 && python detect.py --source ../14th_st.jpg --img-size 640 --mdebug"
   ]
  },
  {
   "cell_type": "code",
   "execution_count": null,
   "metadata": {
    "colab": {},
    "colab_type": "code",
    "id": "XCt9BluVM6Xl"
   },
   "outputs": [],
   "source": [
    "from IPython.display import Image, clear_output  # to display images"
   ]
  },
  {
   "cell_type": "code",
   "execution_count": null,
   "metadata": {
    "colab": {
     "base_uri": "https://localhost:8080/",
     "height": 51
    },
    "colab_type": "code",
    "id": "9bvSeLFqMVT_",
    "outputId": "cad155dc-075d-478b-dc85-9bdb13d999b4"
   },
   "outputs": [],
   "source": [
    "!ls ./yolov5/inference/"
   ]
  },
  {
   "cell_type": "code",
   "execution_count": null,
   "metadata": {
    "colab": {
     "base_uri": "https://localhost:8080/",
     "height": 743
    },
    "colab_type": "code",
    "id": "jyyGjin6S4OP",
    "outputId": "33986d2f-1909-4d3f-c7ad-81938c7d704c"
   },
   "outputs": [],
   "source": [
    "Image(filename='./yolov5/inference/80_80_object_prob.jpg', width=900)\n",
    "Image(filename='./yolov5/inference/40_40_object_prob.jpg', width=900)\n",
    "Image(filename='./yolov5/inference/20_20_object_prob.jpg', width=900)"
   ]
  },
  {
   "cell_type": "markdown",
   "metadata": {
    "colab_type": "text",
    "id": "qvYrEUx5dAx0"
   },
   "source": [
    "### 2. Export model to onnx"
   ]
  },
  {
   "cell_type": "code",
   "execution_count": null,
   "metadata": {
    "colab": {
     "base_uri": "https://localhost:8080/",
     "height": 207
    },
    "colab_type": "code",
    "id": "T6p3YQuT6U-K",
    "outputId": "d6edc29d-9831-4fc5-cd7e-c46c4f5f377c"
   },
   "outputs": [],
   "source": [
    "!pip install onnx"
   ]
  },
  {
   "cell_type": "markdown",
   "metadata": {
    "colab_type": "text",
    "id": "H3VUkKyzHzv2"
   },
   "source": [
    "replace yaml file defaults\n",
    "\n"
   ]
  },
  {
   "cell_type": "code",
   "execution_count": null,
   "metadata": {
    "colab": {
     "base_uri": "https://localhost:8080/",
     "height": 224
    },
    "colab_type": "code",
    "id": "fewTSzSCHpV9",
    "outputId": "d1f974c5-c48c-4c22-dabe-53493e4082d7"
   },
   "outputs": [],
   "source": [
    "!cd yolov5/models && wget https://github.com/TrojanXu/yolov5-tensorrt/blob/master/yolov5s.yaml"
   ]
  },
  {
   "cell_type": "code",
   "execution_count": null,
   "metadata": {
    "colab": {
     "base_uri": "https://localhost:8080/",
     "height": 426
    },
    "colab_type": "code",
    "id": "TwvhvQV46IHd",
    "outputId": "ec7934e3-4566-44bd-def2-d7ed250641c6"
   },
   "outputs": [],
   "source": [
    "!cd yolov5 && python models/export.py"
   ]
  },
  {
   "cell_type": "markdown",
   "metadata": {
    "colab_type": "text",
    "id": "wf8mn0MDgAVh"
   },
   "source": [
    "### 3. Simplyify model architecture"
   ]
  },
  {
   "cell_type": "code",
   "execution_count": null,
   "metadata": {
    "colab": {
     "base_uri": "https://localhost:8080/",
     "height": 343
    },
    "colab_type": "code",
    "id": "qOjVDHGQvE0b",
    "outputId": "ef744ef8-714c-4162-a6a3-fab4d644cfe6"
   },
   "outputs": [],
   "source": [
    "!pip install onnx-simplifier"
   ]
  },
  {
   "cell_type": "code",
   "execution_count": null,
   "metadata": {
    "colab": {
     "base_uri": "https://localhost:8080/",
     "height": 102
    },
    "colab_type": "code",
    "id": "OW2RkxhtvNan",
    "outputId": "40f12a10-7f05-44c9-fb1f-b13d64162959"
   },
   "outputs": [],
   "source": [
    "!cd yolov5 && python3 -m onnxsim yolov5s.onnx yolov5s-simple.onnx"
   ]
  },
  {
   "cell_type": "markdown",
   "metadata": {
    "colab_type": "text",
    "id": "Yq8yDmQCgr_R"
   },
   "source": [
    "### 4. Visualize model"
   ]
  },
  {
   "cell_type": "code",
   "execution_count": null,
   "metadata": {
    "colab": {
     "base_uri": "https://localhost:8080/",
     "height": 122
    },
    "colab_type": "code",
    "id": "sD_-a_hEht6y",
    "outputId": "c6e24e4d-9b7e-4ba2-a851-de6f8f7ff2d4"
   },
   "outputs": [],
   "source": [
    "!pip install netron"
   ]
  },
  {
   "cell_type": "code",
   "execution_count": null,
   "metadata": {
    "colab": {
     "base_uri": "https://localhost:8080/",
     "height": 68
    },
    "colab_type": "code",
    "id": "CvmRP1oMiV-x",
    "outputId": "da863a9e-d952-4444-b97d-624c9d5096fd"
   },
   "outputs": [],
   "source": [
    "!ls yolov5"
   ]
  },
  {
   "cell_type": "code",
   "execution_count": null,
   "metadata": {
    "colab": {
     "base_uri": "https://localhost:8080/",
     "height": 68
    },
    "colab_type": "code",
    "id": "ls4fGH8hiAxn",
    "outputId": "66cb0b75-b7b1-4081-afd0-b59bc4dd5009"
   },
   "outputs": [],
   "source": [
    "import netron\n",
    "netron.start('yolov5/yolov5s.onnx', port=3344)"
   ]
  },
  {
   "cell_type": "code",
   "execution_count": null,
   "metadata": {
    "colab": {
     "base_uri": "https://localhost:8080/",
     "height": 1000
    },
    "colab_type": "code",
    "id": "kceHmaX4c9DS",
    "outputId": "927bfaad-5120-476b-cfaf-684e222eb01c"
   },
   "outputs": [],
   "source": [
    "!dpkg -i nv-tensorrt-repo-ubuntu1804-cuda10.0-trt5.1.2.2-rc-20190227_1-1_amd64.deb\n",
    "!apt-key add /var/nv-tensorrt-repo-cuda10.0-trt5.1.2.2-rc-20190227/7fa2af80.pub\n",
    "!apt-get update\n",
    "!apt-get install -y --no-install-recommends libnvinfer5=5.1.2-1+cuda10.0\n",
    "!apt-get install -y --no-install-recommends libnvinfer-dev=5.1.2-1+cuda10.0\n",
    "!apt-get install tensorrt\n",
    "!apt-get install python3-libnvinfer-dev\n",
    "!apt-get install uff-converter-tf\n"
   ]
  },
  {
   "cell_type": "code",
   "execution_count": null,
   "metadata": {
    "colab": {
     "base_uri": "https://localhost:8080/",
     "height": 34
    },
    "colab_type": "code",
    "id": "0bpPTIrtjKWK",
    "outputId": "6031b145-b443-40d4-b084-4dad80181c21"
   },
   "outputs": [],
   "source": [
    "from google.colab.output import eval_js\n",
    "\n",
    "print(eval_js(\"google.colab.kernel.proxyPort(3344)\"))\n"
   ]
  }
 ],
 "metadata": {
  "accelerator": "GPU",
  "colab": {
   "collapsed_sections": [],
   "name": "yolov5_onnx.ipynb",
   "provenance": [],
   "toc_visible": true
  },
  "kernelspec": {
   "display_name": "Python 3",
   "name": "python3"
  }
 },
 "nbformat": 4,
 "nbformat_minor": 0
}
